{
 "cells": [
  {
   "cell_type": "markdown",
   "metadata": {},
   "source": [
    "# FILE HANDLING"
   ]
  },
  {
   "cell_type": "markdown",
   "metadata": {},
   "source": [
    "Working with file programmatically using python\n",
    "\n",
    "bare minimum program to open a file\n",
    "\n"
   ]
  },
  {
   "cell_type": "code",
   "execution_count": 55,
   "metadata": {},
   "outputs": [
    {
     "name": "stdout",
     "output_type": "stream",
     "text": [
      "hello my name is prajwal.hello my name is prajwal. how are youhello my name is prajwal. how are youhello my name is prajwal. how are youhello my name is prajwal. how are youhello my name is prajwal. how are youhello my name is prajwal. how are youhello my name is prajwal. how are youhello my name is prajwal. how are youhello my name is prajwal. how are you /nhello my name is prajwal. how are you /nhello my name is prajwal. how are you \n",
      "hello my name is prajwal. how are you \n",
      "hello my name is prajwal. how are you \n",
      "hello my name is prajwal. how are you \n",
      "hello my name is prajwal. how are you \n",
      "hello my name is prajwal. how are you \n",
      "\n"
     ]
    }
   ],
   "source": [
    "#Syntax: open(filename.mode)\n",
    "\n",
    "f = open('firstFile.txt')   # create a file pointer.\n",
    "content = f.read()          # Read the contents of the file.\n",
    "print(content)              # Print the content of the file.\n",
    "#f.close()"
   ]
  },
  {
   "cell_type": "code",
   "execution_count": 25,
   "metadata": {},
   "outputs": [],
   "source": [
    "# f = open('firstFile.txt', 'r')      #open this file for reading  \n",
    "# f = open('firstFile.txt', 'a')      #open this file for appending  \n",
    "# f = open('firstFile.txt', 'w')      #I want to start a fresh and write to a file \n",
    "# f = open('firstFile.txt', 'x')  #creates the file and it returns a error if that file exists already\n",
    "\n",
    "# will see these modes one by one"
   ]
  },
  {
   "cell_type": "code",
   "execution_count": 28,
   "metadata": {},
   "outputs": [],
   "source": [
    "f = open('firstFile.txt', 'w')\n",
    "f.write(\"hello my name is prajwal.\")\n",
    "f.close()\n",
    "\n",
    "\n",
    "# if i rerun it you can see the previous content in the file has been removed"
   ]
  },
  {
   "cell_type": "code",
   "execution_count": 48,
   "metadata": {},
   "outputs": [
    {
     "ename": "TypeError",
     "evalue": "a bytes-like object is required, not 'str'",
     "output_type": "error",
     "traceback": [
      "\u001b[1;31m---------------------------------------------------------------------------\u001b[0m",
      "\u001b[1;31mTypeError\u001b[0m                                 Traceback (most recent call last)",
      "\u001b[1;32m<ipython-input-48-b18ab2b51e87>\u001b[0m in \u001b[0;36m<module>\u001b[1;34m\u001b[0m\n\u001b[0;32m      1\u001b[0m \u001b[0mf\u001b[0m \u001b[1;33m=\u001b[0m \u001b[0mopen\u001b[0m\u001b[1;33m(\u001b[0m\u001b[1;34m'firstFile.txt'\u001b[0m\u001b[1;33m,\u001b[0m \u001b[1;34m'ab'\u001b[0m\u001b[1;33m)\u001b[0m\u001b[1;33m\u001b[0m\u001b[1;33m\u001b[0m\u001b[0m\n\u001b[1;32m----> 2\u001b[1;33m \u001b[0mf\u001b[0m\u001b[1;33m.\u001b[0m\u001b[0mwrite\u001b[0m\u001b[1;33m(\u001b[0m\u001b[1;34m\"hello my name is prajwal. how are you \\n\"\u001b[0m\u001b[1;33m)\u001b[0m\u001b[1;33m\u001b[0m\u001b[1;33m\u001b[0m\u001b[0m\n\u001b[0m\u001b[0;32m      3\u001b[0m \u001b[0mf\u001b[0m\u001b[1;33m.\u001b[0m\u001b[0mclose\u001b[0m\u001b[1;33m(\u001b[0m\u001b[1;33m)\u001b[0m\u001b[1;33m\u001b[0m\u001b[1;33m\u001b[0m\u001b[0m\n",
      "\u001b[1;31mTypeError\u001b[0m: a bytes-like object is required, not 'str'"
     ]
    }
   ],
   "source": [
    "f = open('firstFile.txt', 'a')\n",
    "f.write(\"hello my name is prajwal. how are you \\n\")\n",
    "f.close()"
   ]
  },
  {
   "cell_type": "code",
   "execution_count": null,
   "metadata": {},
   "outputs": [],
   "source": []
  },
  {
   "cell_type": "code",
   "execution_count": 40,
   "metadata": {},
   "outputs": [],
   "source": [
    "#  i will write bunch of modes which we discussed\n",
    "\n",
    "# 1. Read mode - 'r': read the content of the file.\n",
    "# 2. Write mode - 'w': clears the content of the file and write content to the file\n",
    "# 3. Append mode - 'a': add content to the end of the file\n",
    "# 4. Create mode - creates the specified file, returns an error if the file exists"
   ]
  },
  {
   "cell_type": "code",
   "execution_count": 47,
   "metadata": {},
   "outputs": [
    {
     "ename": "FileExistsError",
     "evalue": "[Errno 17] File exists: 'firstFile.txt'",
     "output_type": "error",
     "traceback": [
      "\u001b[1;31m---------------------------------------------------------------------------\u001b[0m",
      "\u001b[1;31mFileExistsError\u001b[0m                           Traceback (most recent call last)",
      "\u001b[1;32m<ipython-input-47-e9b6cbf6da9f>\u001b[0m in \u001b[0;36m<module>\u001b[1;34m\u001b[0m\n\u001b[1;32m----> 1\u001b[1;33m \u001b[0mf\u001b[0m \u001b[1;33m=\u001b[0m \u001b[0mopen\u001b[0m\u001b[1;33m(\u001b[0m\u001b[1;34m'firstFile.txt'\u001b[0m\u001b[1;33m,\u001b[0m \u001b[1;34m'x'\u001b[0m\u001b[1;33m)\u001b[0m\u001b[1;33m\u001b[0m\u001b[1;33m\u001b[0m\u001b[0m\n\u001b[0m\u001b[0;32m      2\u001b[0m \u001b[0mf\u001b[0m\u001b[1;33m.\u001b[0m\u001b[0mwrite\u001b[0m\u001b[1;33m(\u001b[0m\u001b[1;34m\"hello my name is prajwal. how are you \\n\"\u001b[0m\u001b[1;33m)\u001b[0m\u001b[1;33m\u001b[0m\u001b[1;33m\u001b[0m\u001b[0m\n\u001b[0;32m      3\u001b[0m \u001b[0mf\u001b[0m\u001b[1;33m.\u001b[0m\u001b[0mclose\u001b[0m\u001b[1;33m(\u001b[0m\u001b[1;33m)\u001b[0m\u001b[1;33m\u001b[0m\u001b[1;33m\u001b[0m\u001b[0m\n",
      "\u001b[1;31mFileExistsError\u001b[0m: [Errno 17] File exists: 'firstFile.txt'"
     ]
    }
   ],
   "source": [
    "f = open('firstFile.txt', 'x')\n",
    "f.write(\"hello my name is prajwal. how are you \\n\")\n",
    "f.close()"
   ]
  },
  {
   "cell_type": "code",
   "execution_count": 56,
   "metadata": {},
   "outputs": [],
   "source": [
    "# Two Types of file :- binary and text ( whatever is not text is binary)\n",
    "\n",
    "# if we add t or b to end of the second argument we can specify whether we want to open the \n",
    "# file as a text file as a text file or a binary file\n"
   ]
  },
  {
   "cell_type": "code",
   "execution_count": 82,
   "metadata": {},
   "outputs": [],
   "source": [
    "# f = open('secondFile.txt','r+')  \n",
    "# print(f.read())\n",
    "# f.write(\"hello python \")   \n",
    "# print(f.read())\n",
    "# f.close()"
   ]
  },
  {
   "cell_type": "code",
   "execution_count": 83,
   "metadata": {},
   "outputs": [
    {
     "name": "stdout",
     "output_type": "stream",
     "text": [
      "how are you?hello python hello python hello python hello python \n",
      "\n"
     ]
    }
   ],
   "source": [
    "# f = open('secondFile.txt','r+')  \n",
    "# print(f.read())\n",
    "# f.write(\"hello python \")   \n",
    "# print(f.read(4))\n",
    "# f.close()"
   ]
  },
  {
   "cell_type": "code",
   "execution_count": 86,
   "metadata": {},
   "outputs": [],
   "source": [
    "# f = open('secondFile.txt','w+')  \n",
    "# print(f.read())\n",
    "# # f.write(\"hello python \")   \n",
    "# # print(f.read(4))\n",
    "# # f.close()"
   ]
  },
  {
   "cell_type": "code",
   "execution_count": 87,
   "metadata": {},
   "outputs": [],
   "source": [
    "# f = open('secondFile.txt','w+')  \n",
    "# print(f.read())\n",
    "# # f.write(\"hello python \")   \n",
    "# # print(f.read(4))\n",
    "# # f.close()"
   ]
  },
  {
   "cell_type": "code",
   "execution_count": null,
   "metadata": {},
   "outputs": [],
   "source": []
  },
  {
   "cell_type": "code",
   "execution_count": null,
   "metadata": {},
   "outputs": [],
   "source": []
  }
 ],
 "metadata": {
  "kernelspec": {
   "display_name": "Python 3",
   "language": "python",
   "name": "python3"
  },
  "language_info": {
   "codemirror_mode": {
    "name": "ipython",
    "version": 3
   },
   "file_extension": ".py",
   "mimetype": "text/x-python",
   "name": "python",
   "nbconvert_exporter": "python",
   "pygments_lexer": "ipython3",
   "version": "3.8.5"
  }
 },
 "nbformat": 4,
 "nbformat_minor": 4
}
